{
 "cells": [
  {
   "cell_type": "markdown",
   "metadata": {},
   "source": [
    "# ID Authentification by Palmprint"
   ]
  },
  {
   "cell_type": "markdown",
   "metadata": {},
   "source": [
    "## Detection of Palmprint ROI"
   ]
  },
  {
   "cell_type": "code",
   "execution_count": 3,
   "metadata": {},
   "outputs": [
    {
     "ename": "TypeError",
     "evalue": "demo_roi_camera() takes 0 positional arguments but 1 was given",
     "output_type": "error",
     "traceback": [
      "\u001b[0;31m---------------------------------------------------------------------------\u001b[0m",
      "\u001b[0;31mTypeError\u001b[0m                                 Traceback (most recent call last)",
      "\u001b[1;32m/Users/yunchilu/Desktop/palmprint/demo.ipynb Cell 3\u001b[0m line \u001b[0;36m4\n\u001b[1;32m      <a href='vscode-notebook-cell:/Users/yunchilu/Desktop/palmprint/demo.ipynb#W5sZmlsZQ%3D%3D?line=0'>1</a>\u001b[0m \u001b[39mfrom\u001b[39;00m \u001b[39mauth_service\u001b[39;00m \u001b[39mimport\u001b[39;00m Service\n\u001b[1;32m      <a href='vscode-notebook-cell:/Users/yunchilu/Desktop/palmprint/demo.ipynb#W5sZmlsZQ%3D%3D?line=2'>3</a>\u001b[0m service \u001b[39m=\u001b[39m Service()\n\u001b[0;32m----> <a href='vscode-notebook-cell:/Users/yunchilu/Desktop/palmprint/demo.ipynb#W5sZmlsZQ%3D%3D?line=3'>4</a>\u001b[0m service\u001b[39m.\u001b[39;49mdemo_roi_camera()\n",
      "\u001b[0;31mTypeError\u001b[0m: demo_roi_camera() takes 0 positional arguments but 1 was given"
     ]
    }
   ],
   "source": [
    "from auth_service import Service\n",
    "\n",
    "service = Service()\n",
    "service.demo_roi_camera()"
   ]
  }
 ],
 "metadata": {
  "kernelspec": {
   "display_name": "504",
   "language": "python",
   "name": "python3"
  },
  "language_info": {
   "codemirror_mode": {
    "name": "ipython",
    "version": 3
   },
   "file_extension": ".py",
   "mimetype": "text/x-python",
   "name": "python",
   "nbconvert_exporter": "python",
   "pygments_lexer": "ipython3",
   "version": "3.9.18"
  }
 },
 "nbformat": 4,
 "nbformat_minor": 2
}
