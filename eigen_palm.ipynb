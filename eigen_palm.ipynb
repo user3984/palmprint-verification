{
 "cells": [
  {
   "cell_type": "code",
   "execution_count": 3,
   "id": "9a6387e8-0559-4e30-981c-ad635bb48f16",
   "metadata": {
    "tags": []
   },
   "outputs": [],
   "source": [
    "import numpy as np\n",
    "import cv2 \n",
    "import matplotlib.pyplot as plt\n",
    "import os\n",
    "from sklearn.utils import shuffle"
   ]
  },
  {
   "cell_type": "code",
   "execution_count": 4,
   "id": "8c7acf2e-5388-4364-a915-c04c6e3f7056",
   "metadata": {
    "tags": []
   },
   "outputs": [],
   "source": [
    "m = np.zeros((16000,16384))"
   ]
  },
  {
   "cell_type": "code",
   "execution_count": 5,
   "id": "167ffdb3-6d6c-4c87-90eb-ce80bfc1b4a5",
   "metadata": {
    "tags": []
   },
   "outputs": [],
   "source": [
    "minr = 1000000\n",
    "minc = 1000000\n",
    "c =0\n",
    "desired_size = (128, 128)\n",
    "directory = os.fsdecode('/root/autodl-tmp/verification/ROI/')\n",
    "for file in os.listdir(directory):\n",
    "    filename = os.fsdecode(file)\n",
    "    if filename.endswith(\".jpeg\"): \n",
    "     #load the image, convert to grayscale and flatten the 2d image \n",
    "        img = cv2.cvtColor(cv2.imread(directory+filename), cv2.COLOR_BGR2GRAY)\n",
    "#         minr = min(minr, img.shape[0])\n",
    "#         minc = min(minc, img.shape[1])\n",
    "        #print(c)\n",
    "        img = cv2.resize(img, desired_size)\n",
    "        flatten_img = np.reshape(img, (1,-1))\n",
    "        m[c,:] = flatten_img\n",
    "        #print(filename)\n",
    "        #print(img.shape)\n",
    "        #print(flatten_img.shape)\n",
    "        c += 1\n",
    "    else:\n",
    "        continue"
   ]
  },
  {
   "cell_type": "code",
   "execution_count": 6,
   "id": "014200fb-2deb-49c8-a3fb-77668a84ae72",
   "metadata": {
    "tags": []
   },
   "outputs": [],
   "source": [
    "Y = np.zeros((16000, 1))\n",
    "for i in range(0, 200):\n",
    "    Y[i*80:(i+1)*80,:] = i+1"
   ]
  },
  {
   "cell_type": "code",
   "execution_count": 7,
   "id": "7afe17f9-448a-474c-af2c-6e12705a0e20",
   "metadata": {
    "tags": []
   },
   "outputs": [],
   "source": [
    "m, Y = shuffle(m, Y)"
   ]
  },
  {
   "cell_type": "code",
   "execution_count": 8,
   "id": "1a57f58a-f321-4e3f-b9b8-141685e710f6",
   "metadata": {
    "tags": []
   },
   "outputs": [],
   "source": [
    "#80% - training\n",
    "#20% - testing\n",
    "x_train = m[:12800,:]\n",
    "x_test = m[12800:, :]\n",
    "y_train = Y[:12800, :]\n",
    "y_test = Y[12800:, :]"
   ]
  },
  {
   "cell_type": "code",
   "execution_count": 9,
   "id": "5349ec73-5c63-43c1-b851-01fd740105ba",
   "metadata": {
    "tags": []
   },
   "outputs": [],
   "source": [
    "#Mean normalize\n",
    "mean = np.mean(x_train,0)\n",
    "x_train_norm = x_train - mean[np.newaxis,:]\n",
    "x_test_norm = x_test - mean[np.newaxis,:]"
   ]
  },
  {
   "cell_type": "code",
   "execution_count": 10,
   "id": "ab039bb7-9ac5-431a-8f0f-19a6fe43d926",
   "metadata": {
    "tags": []
   },
   "outputs": [],
   "source": [
    "def pca(X, n_pc):\n",
    "    U, S, V = np.linalg.svd(X)\n",
    "    components = V[:n_pc]\n",
    "    projected = U[:,:n_pc]*S[:n_pc]\n",
    "    return projected, components"
   ]
  },
  {
   "cell_type": "code",
   "execution_count": 11,
   "id": "b6986906-ad21-4517-af8e-529b40d65a4a",
   "metadata": {
    "tags": []
   },
   "outputs": [],
   "source": [
    "def plot_portraits(images, titles, h, w, n_row, n_col):\n",
    "    plt.figure(figsize=(2.2 * n_col, 2.2 * n_row))\n",
    "    plt.subplots_adjust(bottom=0, left=.01, right=.99, top=.90, hspace=.20)\n",
    "    for i in range(n_row * n_col):\n",
    "        plt.subplot(n_row, n_col, i + 1)\n",
    "        plt.imshow(images[i].reshape((h, w)), cmap=plt.cm.gray)\n",
    "        plt.title(titles[i])\n",
    "        plt.xticks(())\n",
    "        plt.yticks(())"
   ]
  },
  {
   "cell_type": "code",
   "execution_count": 12,
   "id": "933f8811-c7a5-42c0-9aa5-38804b60e2f1",
   "metadata": {
    "tags": []
   },
   "outputs": [],
   "source": [
    "import scipy"
   ]
  },
  {
   "cell_type": "code",
   "execution_count": null,
   "id": "d2e2a233-6f1c-415d-8648-0cecef826003",
   "metadata": {
    "tags": []
   },
   "outputs": [],
   "source": [
    "u,s,v = scipy.linalg.lapack.dgesvd(x_train_norm)"
   ]
  },
  {
   "cell_type": "code",
   "execution_count": null,
   "id": "6b316a27-36f1-4c93-a9b5-146173c22817",
   "metadata": {},
   "outputs": [],
   "source": [
    "# n_components = 50\n",
    "# #P, C = pca(x_train_norm, n_pc=n_components)\n",
    "# cov_matrix = np.cov(x_train_norm.T)\n",
    "# print(\"Cov done\")\n",
    "# val, vec = np.linalg.eigh(cov_matrix)\n",
    "# C = vec[:n_components].T\n",
    "# print(\"PCA done\")"
   ]
  },
  {
   "cell_type": "code",
   "execution_count": null,
   "id": "1e1308e4-4ab3-467b-ab96-40229ce90183",
   "metadata": {},
   "outputs": [],
   "source": [
    "eigenpalms= C.reshape((n_components, 128, 128))\n",
    "eigenpalm_titles = [\"eigenface %d\" % i for i in range(eigenpalms.shape[0])]\n",
    "plot_portraits(eigenpalms, eigenpalm_titles, 128, 128, 4, 4) "
   ]
  },
  {
   "cell_type": "code",
   "execution_count": null,
   "id": "3878013d-5689-495a-a364-4cdc7723af7c",
   "metadata": {},
   "outputs": [],
   "source": [
    "x_train_pca = pca.transform(x_train_norm)\n",
    "X_test_pca = pca.transform(x_test_norm)"
   ]
  },
  {
   "cell_type": "code",
   "execution_count": null,
   "id": "71f48fd8-8616-420e-9c37-7c03f0899b69",
   "metadata": {
    "tags": []
   },
   "outputs": [],
   "source": []
  },
  {
   "cell_type": "code",
   "execution_count": null,
   "id": "24523707-0cff-4d83-b409-b6fe28bff7ab",
   "metadata": {},
   "outputs": [],
   "source": []
  }
 ],
 "metadata": {
  "kernelspec": {
   "display_name": "Python 3 (ipykernel)",
   "language": "python",
   "name": "python3"
  },
  "language_info": {
   "codemirror_mode": {
    "name": "ipython",
    "version": 3
   },
   "file_extension": ".py",
   "mimetype": "text/x-python",
   "name": "python",
   "nbconvert_exporter": "python",
   "pygments_lexer": "ipython3",
   "version": "3.8.10"
  }
 },
 "nbformat": 4,
 "nbformat_minor": 5
}
